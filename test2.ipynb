{
 "cells": [
  {
   "cell_type": "code",
   "execution_count": 1,
   "metadata": {},
   "outputs": [],
   "source": [
    "# Based on Amar's matlab code\n",
    "import numpy as np\n",
    "from shapely.geometry import LineString, Point\n",
    "\n",
    "import time\n",
    "\n",
    "parameters = {}\n",
    "\n",
    "parameters['time'] = time.strftime('%d%b%H%M', time.localtime())\n",
    "parameters['doi_size'] = 1.5\n",
    "parameters['alpha'] = 1e2\n",
    "parameters['num_iter'] = 1,\n",
    "parameters['num_devices'] = 20\n",
    "parameters['device_indices'] = [x+1 for x in range(parameters['num_devices'])]\n",
    "\n",
    "parameters['sample_rate'] = 1e6  # Hz\n",
    "parameters['num_samples'] = 1000  # number of samples per call to rx()\n",
    "parameters['center_freq'] = 2.35e9  # Hz 2.4e9\n",
    "parameters['bandwidth'] = 10  # Hz\n",
    "parameters['transmitter_attenuation'] = 0  # dB\n",
    "parameters['receiver_gain'] = 40,  # dB\n",
    "parameters['grid_resolution'] = 0.05\n",
    "parameters['detection_size'] = 0.1\n",
    "\n",
    "def calculate_distance(point1, point2):\n",
    "    return np.sqrt((point1[0]-point2[0])**2+(point1[1]-point2[1])**2)\n",
    "\n",
    "\n",
    "\n",
    "def get_device_coordinates(parameters):\n",
    "    doi_size = parameters['doi_size']\n",
    "    num_deivces = len(parameters['device_indices'])\n",
    "\n",
    "    line = LineString(((0.0, 0.0), (0.0, doi_size), (doi_size, doi_size), (doi_size, 0.0), (0.0, 0.0)))\n",
    "\n",
    "    distances = np.linspace(0, line.length, num_deivces+1)\n",
    "\n",
    "    points = [line.interpolate(distance) for distance in distances[:-1]]\n",
    "\n",
    "    xx = [round(point.x, 3) for point in points]\n",
    "    yy = [round(point.y, 3) for point in points]\n",
    "\n",
    "    return xx, yy\n",
    "\n",
    "\n",
    "def get_grid_coordinates(parameters):\n",
    "    x = np.linspace(0.025, 1.475, int(parameters['doi_size']/parameters['grid_resolution']))\n",
    "\n",
    "    y = np.linspace(0.025, 1.475, int(parameters['doi_size']/parameters['grid_resolution']))\n",
    "\n",
    "    xx, yy = np.meshgrid(x, y)\n",
    "\n",
    "    return xx, yy\n",
    "\n",
    "\n",
    "device_xx, device_yy = get_device_coordinates(parameters)\n",
    "\n",
    "\n",
    "grid_xx, grid_yy = get_grid_coordinates(parameters)\n",
    "\n",
    "dist_txrx = np.zeros((parameters['num_devices'], parameters['num_devices']))\n",
    "for tx in range(parameters['num_devices']):\n",
    "    for rx in range(parameters['num_devices']):\n",
    "        dist_txrx[tx][rx] = calculate_distance((device_xx[tx], device_yy[tx]), (device_xx[rx], device_yy[rx]))\n",
    "\n",
    "dist_grid2device = np.zeros((int(parameters['doi_size']/parameters['grid_resolution']), int(parameters['doi_size']/parameters['grid_resolution']), parameters['num_devices']))\n",
    "for y in range(int(parameters['doi_size']/parameters['grid_resolution'])):\n",
    "    for x in range(int(parameters['doi_size']/parameters['grid_resolution'])):\n",
    "        for device in range(parameters['num_devices']):\n",
    "            dist_grid2device[x][y][device] = (calculate_distance((grid_xx[x][y], grid_yy[x][y]), (device_xx[device], device_yy[device])))\n"
   ]
  },
  {
   "cell_type": "code",
   "execution_count": 2,
   "metadata": {},
   "outputs": [],
   "source": [
    "F_RTI = np.zeros(((parameters['num_devices'])*(parameters['num_devices']-1), int(parameters['doi_size']/parameters['grid_resolution']), int(parameters['doi_size']/parameters['grid_resolution'])))\n",
    "\n",
    "idx = 0\n",
    "for tx in range(parameters['num_devices']):\n",
    "    for rx in range(parameters['num_devices']):\n",
    "        if tx != rx:\n",
    "            Thresh = 2*np.sqrt(dist_txrx[tx][rx]**2/4+parameters['detection_size']**2)\n",
    "            foc_sum = dist_grid2device[:, :, rx] + dist_grid2device[:, :, tx]\n",
    "            foc_sum[foc_sum>Thresh]=0\n",
    "            foc_sum[foc_sum!=0]=1\n",
    "            F_RTI[idx] = foc_sum\n",
    "            idx += 1\n",
    "\n",
    "F_RTI = F_RTI.reshape((parameters['num_devices'])*(parameters['num_devices']-1), -1)"
   ]
  },
  {
   "cell_type": "code",
   "execution_count": 3,
   "metadata": {},
   "outputs": [],
   "source": [
    "start = time.time()"
   ]
  },
  {
   "cell_type": "code",
   "execution_count": 4,
   "metadata": {},
   "outputs": [],
   "source": [
    "from functions import *\n",
    "\n",
    "Pinc = np.load('result\\Pinc.npy')\n",
    "Pinc = magnitude_to_db(abs(np.mean(np.squeeze(Pinc), axis=2)), parameters['receiver_gain'])\n",
    "Pinc = Pinc[~np.eye(Pinc.shape[0],dtype=bool)].reshape(-1,1)"
   ]
  },
  {
   "cell_type": "code",
   "execution_count": 5,
   "metadata": {},
   "outputs": [],
   "source": [
    "Ptot = np.load('result\\Ptot.npy')\n",
    "Ptot = magnitude_to_db(abs(np.mean(np.squeeze(Ptot), axis=2)), parameters['receiver_gain'])\n",
    "Ptot = Ptot[~np.eye(Ptot.shape[0],dtype=bool)].reshape(-1,1)"
   ]
  },
  {
   "cell_type": "code",
   "execution_count": 6,
   "metadata": {},
   "outputs": [],
   "source": [
    "Pryt = Pinc - Ptot"
   ]
  },
  {
   "cell_type": "code",
   "execution_count": 7,
   "metadata": {},
   "outputs": [],
   "source": [
    "output = np.matmul(np.linalg.solve((np.matmul(F_RTI.T, F_RTI) + parameters['alpha'] * np.identity((int(parameters['doi_size']/parameters['grid_resolution'])**2))),  F_RTI.T), Pryt)"
   ]
  },
  {
   "cell_type": "code",
   "execution_count": 8,
   "metadata": {},
   "outputs": [],
   "source": [
    "output = output / output.max()"
   ]
  },
  {
   "cell_type": "code",
   "execution_count": 9,
   "metadata": {},
   "outputs": [],
   "source": [
    "output[output<0] = 0"
   ]
  },
  {
   "cell_type": "code",
   "execution_count": 10,
   "metadata": {},
   "outputs": [
    {
     "data": {
      "image/png": "[encoded data removed]",
      "text/plain": [
       "<Figure size 576x576 with 1 Axes>"
      ]
     },
     "metadata": {
      "needs_background": "light"
     },
     "output_type": "display_data"
    }
   ],
   "source": [
    "import matplotlib.pyplot as plt\n",
    "\n",
    "plt.figure(figsize=(8, 8))\n",
    "\n",
    "fontdict = {'family': 'serif',\n",
    "            'color':  'black',\n",
    "            'weight': 'normal',\n",
    "            'size': 10,\n",
    "            }\n",
    "\n",
    "plt.imshow(output.reshape((30,30)), extent=[0.025, 1.475, 0.025, 1.475], cmap='jet')\n",
    "\n",
    "for i in range(parameters['num_devices']):\n",
    "    plt.scatter(device_xx[i], device_yy[i], c='tan', s=200)\n",
    "    plt.text(x=device_xx[i], y=device_yy[i]-0.01, s=i+1, fontdict=fontdict, ha='center')\n",
    "plt.show()"
   ]
  },
  {
   "cell_type": "code",
   "execution_count": null,
   "metadata": {},
   "outputs": [],
   "source": []
  }
 ],
 "metadata": {
  "kernelspec": {
   "display_name": "Python 3.10.5 64-bit",
   "language": "python",
   "name": "python3"
  },
  "language_info": {
   "codemirror_mode": {
    "name": "ipython",
    "version": 3
   },
   "file_extension": ".py",
   "mimetype": "text/x-python",
   "name": "python",
   "nbconvert_exporter": "python",
   "pygments_lexer": "ipython3",
   "version": "3.10.5"
  },
  "orig_nbformat": 4,
  "vscode": {
   "interpreter": {
    "hash": "5b587aeac1ae0da16fd7d23ab08f6c4c104f5c058842a6e59d999f49ca9697ff"
   }
  }
 },
 "nbformat": 4,
 "nbformat_minor": 2
}

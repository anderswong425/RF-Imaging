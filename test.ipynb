{
 "cells": [
  {
   "cell_type": "code",
   "execution_count": 34,
   "metadata": {},
   "outputs": [],
   "source": [
    "# Based on Amar's matlab code\n",
    "import numpy as np\n",
    "from shapely.geometry import LineString, Point\n",
    "\n",
    "import time\n",
    "\n",
    "parameters = {}\n",
    "\n",
    "parameters['time'] = time.strftime('%d%b%H%M', time.localtime())\n",
    "parameters['doi_size'] = 1.5\n",
    "parameters['alpha'] = 1e2\n",
    "parameters['num_iter'] = 1,\n",
    "parameters['num_devices'] = 20\n",
    "parameters['device_indices'] = [x+1 for x in range(parameters['num_devices'])]\n",
    "\n",
    "parameters['sample_rate'] = 1e6  # Hz\n",
    "parameters['num_samples'] = 1000  # number of samples per call to rx()\n",
    "parameters['center_freq'] = 2.4e9  # Hz 2.4e9\n",
    "parameters['bandwidth'] = 10  # Hz\n",
    "parameters['transmitter_attenuation'] = 0  # dB\n",
    "parameters['receiver_gain'] = 40,  # dB\n",
    "parameters['grid_resolution'] = 0.05\n",
    "parameters['detection_size'] = 0.1\n",
    "\n",
    "def calculate_distance(point1, point2):\n",
    "    return np.sqrt((point1[0]-point2[0])**2+(point1[1]-point2[1])**2)\n",
    "\n",
    "\n",
    "\n",
    "def get_device_coordinates(parameters):\n",
    "    doi_size = parameters['doi_size']\n",
    "    num_deivces = len(parameters['device_indices'])\n",
    "\n",
    "    line = LineString(((0.0, 0.0), (0.0, doi_size), (doi_size, doi_size), (doi_size, 0.0), (0.0, 0.0)))\n",
    "\n",
    "    distances = np.linspace(0, line.length, num_deivces+1)\n",
    "\n",
    "    points = [line.interpolate(distance) for distance in distances[:-1]]\n",
    "\n",
    "    xx = [round(point.x, 3) for point in points]\n",
    "    yy = [round(point.y, 3) for point in points]\n",
    "\n",
    "    return xx, yy\n",
    "\n",
    "\n",
    "def get_grid_coordinates(parameters):\n",
    "    x = np.linspace(0.025, 1.475, int(parameters['doi_size']/parameters['grid_resolution']))\n",
    "\n",
    "    y = np.linspace(0.025, 1.475, int(parameters['doi_size']/parameters['grid_resolution']))\n",
    "\n",
    "    xx, yy = np.meshgrid(x, y)\n",
    "\n",
    "    return xx, yy\n",
    "\n",
    "\n",
    "device_xx, device_yy = get_device_coordinates(parameters)\n",
    "\n",
    "\n",
    "grid_xx, grid_yy = get_grid_coordinates(parameters)\n",
    "\n",
    "dist_txrx = np.zeros((parameters['num_devices'], parameters['num_devices']))\n",
    "for tx in range(parameters['num_devices']):\n",
    "    for rx in range(parameters['num_devices']):\n",
    "        dist_txrx[tx][rx] = calculate_distance((device_xx[tx], device_yy[tx]), (device_xx[rx], device_yy[rx]))\n",
    "\n",
    "dist_grid2device = np.zeros((int(parameters['doi_size']/parameters['grid_resolution']), int(parameters['doi_size']/parameters['grid_resolution']), parameters['num_devices']))\n",
    "for y in range(int(parameters['doi_size']/parameters['grid_resolution'])):\n",
    "    for x in range(int(parameters['doi_size']/parameters['grid_resolution'])):\n",
    "        for device in range(parameters['num_devices']):\n",
    "            dist_grid2device[x][y][device] = (calculate_distance((grid_xx[x][y], grid_yy[x][y]), (device_xx[device], device_yy[device])))\n"
   ]
  },
  {
   "cell_type": "code",
   "execution_count": 35,
   "metadata": {},
   "outputs": [],
   "source": [
    "F_RTI = np.zeros(((parameters['num_devices'])*(parameters['num_devices']-1), int(parameters['doi_size']/parameters['grid_resolution']), int(parameters['doi_size']/parameters['grid_resolution'])))\n",
    "\n",
    "idx = 0\n",
    "for tx in range(parameters['num_devices']):\n",
    "    for rx in range(parameters['num_devices']):\n",
    "        if tx != rx:\n",
    "            Thresh = 2*np.sqrt(dist_txrx[tx][rx]**2/4+parameters['detection_size']**2)\n",
    "            foc_sum = dist_grid2device[:, :, rx] + dist_grid2device[:, :, tx]\n",
    "            foc_sum[foc_sum>Thresh]=0\n",
    "            foc_sum[foc_sum!=0]=1\n",
    "            F_RTI[idx] = foc_sum\n",
    "            idx += 1\n",
    "\n",
    "F_RTI = F_RTI.reshape((parameters['num_devices'])*(parameters['num_devices']-1), -1)"
   ]
  },
  {
   "cell_type": "code",
   "execution_count": 36,
   "metadata": {},
   "outputs": [],
   "source": [
    "start = time.time()"
   ]
  },
  {
   "cell_type": "code",
   "execution_count": 37,
   "metadata": {},
   "outputs": [],
   "source": [
    "from functions import *\n",
    "\n",
    "Pinc = np.load('result/Pinc.npy')\n",
    "Pinc = magnitude_to_db(abs(np.mean(np.squeeze(Pinc), axis=2)), parameters['receiver_gain'])\n",
    "Pinc = Pinc[~np.eye(Pinc.shape[0],dtype=bool)].reshape(-1,1)"
   ]
  },
  {
   "cell_type": "code",
   "execution_count": 38,
   "metadata": {},
   "outputs": [],
   "source": [
    "Ptot = np.load('result/Ptot.npy')\n",
    "Ptot = magnitude_to_db(abs(np.mean(np.squeeze(Ptot), axis=2)), parameters['receiver_gain'])\n",
    "Ptot = Ptot[~np.eye(Ptot.shape[0],dtype=bool)].reshape(-1,1)"
   ]
  },
  {
   "cell_type": "code",
   "execution_count": 39,
   "metadata": {},
   "outputs": [],
   "source": [
    "Pryt = Pinc - Ptot"
   ]
  },
  {
   "cell_type": "code",
   "execution_count": 40,
   "metadata": {},
   "outputs": [],
   "source": [
    "output = np.matmul(np.linalg.solve((np.matmul(F_RTI.T, F_RTI) + parameters['alpha'] * np.identity((int(parameters['doi_size']/parameters['grid_resolution'])**2))),  F_RTI.T), Pryt)"
   ]
  },
  {
   "cell_type": "code",
   "execution_count": 41,
   "metadata": {},
   "outputs": [],
   "source": [
    "output = output / output.max()"
   ]
  },
  {
   "cell_type": "code",
   "execution_count": 42,
   "metadata": {},
   "outputs": [],
   "source": [
    "output[output<0] = 0"
   ]
  },
  {
   "cell_type": "code",
   "execution_count": 43,
   "metadata": {},
   "outputs": [
    {
     "data": {
      "image/png": "[encoded data removed]",
      "text/plain": [
       "<Figure size 800x800 with 1 Axes>"
      ]
     },
     "metadata": {},
     "output_type": "display_data"
    }
   ],
   "source": [
    "import matplotlib.pyplot as plt\n",
    "\n",
    "plt.figure(figsize=(8, 8))\n",
    "\n",
    "fontdict = {'family': 'serif',\n",
    "            'color':  'black',\n",
    "            'weight': 'normal',\n",
    "            'size': 10,\n",
    "            }\n",
    "\n",
    "plt.imshow(output.reshape((30,30)), extent=[0.025, 1.475, 0.025, 1.475], cmap='jet')\n",
    "\n",
    "for i in range(parameters['num_devices']):\n",
    "    plt.scatter(device_xx[i], device_yy[i], c='tan', s=200)\n",
    "    plt.text(x=device_xx[i], y=device_yy[i]-0.01, s=i+1, fontdict=fontdict, ha='center')\n",
    "plt.show()"
   ]
  },
  {
   "cell_type": "code",
   "execution_count": 44,
   "metadata": {},
   "outputs": [],
   "source": [
    "import numpy as np\n",
    "import time\n",
    "\n",
    "parameters = {}\n",
    "\n",
    "parameters['time'] = time.time()\n",
    "parameters['num_devices'] = 20\n",
    "parameters['device_indices'] = [x+1 for x in range(parameters['num_devices'])]\n",
    "\n",
    "# device parameters\n",
    "parameters['sample_rate'] = 1e6  # Hz\n",
    "parameters['num_samples'] = 100  # number of samples per call to rx()\n",
    "parameters['center_freq'] = 2.4e9  # Hz\n",
    "parameters['bandwidth'] = 10  # Hz\n",
    "parameters['transmitter_attenuation'] = 0  # dB\n",
    "parameters['receiver_gain'] = 30  # dB\n",
    "parameters['wavelength'] = 3e8/parameters['center_freq']\n",
    "\n",
    "# imaging parameters\n",
    "parameters['doi_size'] = 1.5\n",
    "parameters['alpha'] = 0.05 #1e2\n",
    "parameters['grid_resolution'] = 0.05\n",
    "parameters['detection_size'] = 0.1\n",
    "parameters['pixel_size'] = (int(parameters['doi_size']/parameters['grid_resolution']), int(parameters['doi_size']/parameters['grid_resolution'])) \n",
    "\n",
    "parameters['eterm'] = 1\n",
    "parameters['k0'] = 2*np.pi/parameters['wavelength']\n",
    "\n",
    "    \n",
    "Pinc = np.load('result/Pinc.npy')\n",
    "Ptot = np.load('result/Ptot.npy')\n",
    "\n",
    "Pinc = magnitude_to_db(abs(np.mean(np.squeeze(Pinc), axis=2)), parameters['receiver_gain'])\n",
    "Pinc = Pinc[~np.eye(Pinc.shape[0],dtype=bool)].reshape(-1,1)\n",
    "\n",
    "\n",
    "Ptot = magnitude_to_db(abs(np.mean(np.squeeze(Ptot), axis=2)), parameters['receiver_gain'])\n",
    "Ptot = Ptot[~np.eye(Ptot.shape[0],dtype=bool)].reshape(-1,1)"
   ]
  },
  {
   "cell_type": "code",
   "execution_count": 45,
   "metadata": {},
   "outputs": [],
   "source": [
    "Pryt=(Ptot-Pinc)/(20*np.log10(np.exp(1)))"
   ]
  },
  {
   "cell_type": "code",
   "execution_count": 46,
   "metadata": {},
   "outputs": [],
   "source": [
    "cellrad = (np.sqrt(parameters['grid_resolution']**2/np.pi)*2)/2"
   ]
  },
  {
   "cell_type": "code",
   "execution_count": 47,
   "metadata": {},
   "outputs": [],
   "source": [
    "from scipy.special import hankel1, jv\n",
    "\n",
    "E_d = (1j/4)*hankel1(0, parameters['k0']*dist_txrx)\n",
    "E_inc = (1j/4)*hankel1(0, parameters['k0']*dist_grid2device)"
   ]
  },
  {
   "cell_type": "code",
   "execution_count": 48,
   "metadata": {},
   "outputs": [
    {
     "data": {
      "text/plain": [
       "(20, 20)"
      ]
     },
     "execution_count": 48,
     "metadata": {},
     "output_type": "execute_result"
    }
   ],
   "source": [
    "E_d.shape\n",
    "dist_txrx.shape\n"
   ]
  },
  {
   "cell_type": "code",
   "execution_count": 49,
   "metadata": {},
   "outputs": [
    {
     "data": {
      "text/plain": [
       "(30, 30, 20)"
      ]
     },
     "execution_count": 49,
     "metadata": {},
     "output_type": "execute_result"
    }
   ],
   "source": [
    "E_inc.shape"
   ]
  },
  {
   "cell_type": "code",
   "execution_count": null,
   "metadata": {},
   "outputs": [],
   "source": []
  },
  {
   "cell_type": "code",
   "execution_count": 52,
   "metadata": {},
   "outputs": [],
   "source": [
    "Zryt=((1j*np.pi*cellrad/(2*parameters['k0']))*jv(1,parameters['k0']*cellrad)*hankel1(0, parameters['k0']*dist_grid2device.T))"
   ]
  },
  {
   "cell_type": "code",
   "execution_count": 69,
   "metadata": {},
   "outputs": [],
   "source": [
    "Fryt = np.zeros(((parameters['num_devices'])*(parameters['num_devices']-1), int(parameters['doi_size']/parameters['grid_resolution']), int(parameters['doi_size']/parameters['grid_resolution'])), dtype=complex)\n",
    "\n",
    "idx = 0\n",
    "for tx in range(parameters['num_devices']):\n",
    "    for rx in range(parameters['num_devices']):\n",
    "        if tx != rx:\n",
    "            Fryt[idx] = ((parameters['k0']**2)*((Zryt[rx, :, :]*(E_inc[:, :, tx]).T)/(E_d[tx][rx])))\n",
    "            \n",
    "            idx += 1"
   ]
  },
  {
   "cell_type": "code",
   "execution_count": 73,
   "metadata": {},
   "outputs": [],
   "source": [
    "Fryt = Fryt.reshape(380, -1)"
   ]
  },
  {
   "cell_type": "code",
   "execution_count": 54,
   "metadata": {},
   "outputs": [],
   "source": [
    "FrytB = np.concatenate((Fryt.real, -Fryt.imag)).reshape(380, -1)"
   ]
  },
  {
   "cell_type": "code",
   "execution_count": 55,
   "metadata": {},
   "outputs": [
    {
     "data": {
      "text/plain": [
       "(1800, 380)"
      ]
     },
     "execution_count": 55,
     "metadata": {},
     "output_type": "execute_result"
    }
   ],
   "source": [
    "FrytB.T.shape"
   ]
  },
  {
   "cell_type": "code",
   "execution_count": 56,
   "metadata": {},
   "outputs": [],
   "source": [
    "U_l = FrytB.shape[1]"
   ]
  },
  {
   "cell_type": "code",
   "execution_count": 57,
   "metadata": {},
   "outputs": [],
   "source": [
    "lambda_max = np.linalg.norm(np.matmul(FrytB.T, Pryt), ord=2)"
   ]
  },
  {
   "cell_type": "code",
   "execution_count": 58,
   "metadata": {},
   "outputs": [
    {
     "data": {
      "text/plain": [
       "array([[ 1.71222902e+01,  1.52666966e+00,  1.30895286e+00, ...,\n",
       "        -2.81316185e-01,  5.20879986e-01,  7.98405620e-01],\n",
       "       [ 1.52666966e+00,  1.21934564e+01,  3.01126025e-01, ...,\n",
       "         2.41441204e-01,  1.12621140e-02,  8.32749364e-01],\n",
       "       [ 1.30895286e+00,  3.01126025e-01,  1.10208624e+01, ...,\n",
       "         3.23465551e-01,  2.65614601e-01,  5.47359668e-01],\n",
       "       ...,\n",
       "       [-2.81316185e-01,  2.41441204e-01,  3.23465551e-01, ...,\n",
       "         1.10208624e+01,  3.01126025e-01,  1.30895286e+00],\n",
       "       [ 5.20879986e-01,  1.12621140e-02,  2.65614601e-01, ...,\n",
       "         3.01126025e-01,  1.21934564e+01,  1.52666966e+00],\n",
       "       [ 7.98405620e-01,  8.32749364e-01,  5.47359668e-01, ...,\n",
       "         1.30895286e+00,  1.52666966e+00,  1.71222902e+01]])"
      ]
     },
     "execution_count": 58,
     "metadata": {},
     "output_type": "execute_result"
    }
   ],
   "source": [
    "(np.matmul(FrytB.T, FrytB) + lambda_max * parameters['alpha'] * np.identity(U_l))"
   ]
  },
  {
   "cell_type": "code",
   "execution_count": 59,
   "metadata": {},
   "outputs": [],
   "source": [
    "# O = (FrytB.'*FrytB + lambda_max*alph*eye(U_l))\\FrytB.'*Pryt\n",
    "\n",
    "Oimag = np.matmul(np.linalg.solve((np.matmul(FrytB.T, FrytB) + lambda_max * parameters['alpha'] * np.identity(U_l)),  FrytB.T), Pryt)[parameters['pixel_size'][0]**2:]"
   ]
  },
  {
   "cell_type": "code",
   "execution_count": 60,
   "metadata": {},
   "outputs": [],
   "source": [
    "epr = 4*np.pi*(Oimag*0.5)/parameters['wavelength']\n",
    "\n",
    "epr[epr < 0] = 0"
   ]
  },
  {
   "cell_type": "code",
   "execution_count": 61,
   "metadata": {},
   "outputs": [
    {
     "data": {
      "image/png": "[encoded data removed]",
      "text/plain": [
       "<Figure size 800x800 with 1 Axes>"
      ]
     },
     "metadata": {},
     "output_type": "display_data"
    }
   ],
   "source": [
    "\n",
    "plt.figure(figsize=(8, 8))\n",
    "\n",
    "fontdict = {'family': 'serif',\n",
    "            'color':  'black',\n",
    "            'weight': 'normal',\n",
    "            'size': 10,\n",
    "            }\n",
    "\n",
    "plt.imshow(epr.reshape((30,30)), extent=[0.025, 1.475, 0.025, 1.475], cmap='jet')\n",
    "\n",
    "for i in range(parameters['num_devices']):\n",
    "    plt.scatter(device_xx[i], device_yy[i], c='tan', s=200)\n",
    "    plt.text(x=device_xx[i], y=device_yy[i]-0.01, s=i+1, fontdict=fontdict, ha='center')\n",
    "plt.show()"
   ]
  },
  {
   "cell_type": "code",
   "execution_count": 62,
   "metadata": {},
   "outputs": [
    {
     "data": {
      "text/plain": [
       "7.2215452072391875"
      ]
     },
     "execution_count": 62,
     "metadata": {},
     "output_type": "execute_result"
    }
   ],
   "source": [
    "epr.max()"
   ]
  },
  {
   "cell_type": "code",
   "execution_count": 63,
   "metadata": {},
   "outputs": [
    {
     "data": {
      "text/plain": [
       "(20, 900)"
      ]
     },
     "execution_count": 63,
     "metadata": {},
     "output_type": "execute_result"
    }
   ],
   "source": [
    "import scipy.io\n",
    "\n",
    "\n",
    "haha = scipy.io.loadmat(\"/home/lowong/Downloads/Forward_and_inverse_xPRA_RTI_codes - Anders/distanceED.mat\")['distRxRn']\n",
    "\n",
    "haha = np.array(haha)\n",
    "haha.shape\n"
   ]
  },
  {
   "cell_type": "code",
   "execution_count": 64,
   "metadata": {},
   "outputs": [
    {
     "data": {
      "text/plain": [
       "(30, 30, 20)"
      ]
     },
     "execution_count": 64,
     "metadata": {},
     "output_type": "execute_result"
    }
   ],
   "source": [
    "dist_grid2device.shape"
   ]
  },
  {
   "cell_type": "code",
   "execution_count": 65,
   "metadata": {},
   "outputs": [
    {
     "data": {
      "text/plain": [
       "array([[-1.43985651, -1.34616234, -1.24775177, ...,  0.53620735,\n",
       "         0.57400888,  0.61075316],\n",
       "       [-1.22428258, -1.16624867, -1.10015422, ...,  0.62702949,\n",
       "         0.66956577,  0.71053629],\n",
       "       [-1.0075708 , -0.95676526, -0.90195574, ...,  0.74591712,\n",
       "         0.79399075,  0.83965022],\n",
       "       ...,\n",
       "       [ 0.29981385,  0.2997838 ,  0.29974568, ..., -0.11661155,\n",
       "        -0.12439755, -0.13189327],\n",
       "       [-0.29981385, -0.2997838 , -0.29974568, ...,  0.11661155,\n",
       "         0.12439755,  0.13189327],\n",
       "       [-0.8991319 , -0.89889312, -0.89851396, ...,  0.33982615,\n",
       "         0.36299831,  0.38538561]])"
      ]
     },
     "execution_count": 65,
     "metadata": {},
     "output_type": "execute_result"
    }
   ],
   "source": [
    "dist_grid2device.reshape(900, -1).T - haha"
   ]
  },
  {
   "cell_type": "code",
   "execution_count": 67,
   "metadata": {},
   "outputs": [
    {
     "data": {
      "text/plain": [
       "(380, 30, 30)"
      ]
     },
     "execution_count": 67,
     "metadata": {},
     "output_type": "execute_result"
    }
   ],
   "source": [
    "Fryt.shape"
   ]
  },
  {
   "cell_type": "code",
   "execution_count": 68,
   "metadata": {},
   "outputs": [
    {
     "ename": "NameError",
     "evalue": "name 'E_ds1' is not defined",
     "output_type": "error",
     "traceback": [
      "\u001b[0;31m---------------------------------------------------------------------------\u001b[0m",
      "\u001b[0;31mNameError\u001b[0m                                 Traceback (most recent call last)",
      "Cell \u001b[0;32mIn [68], line 1\u001b[0m\n\u001b[0;32m----> 1\u001b[0m E_ds1\n",
      "\u001b[0;31mNameError\u001b[0m: name 'E_ds1' is not defined"
     ]
    }
   ],
   "source": [
    "E_ds1"
   ]
  },
  {
   "cell_type": "code",
   "execution_count": 76,
   "metadata": {},
   "outputs": [
    {
     "data": {
      "text/plain": [
       "(380, 900)"
      ]
     },
     "execution_count": 76,
     "metadata": {},
     "output_type": "execute_result"
    }
   ],
   "source": [
    "Fryt = np.zeros(((parameters['num_devices'])*(parameters['num_devices']-1), int(parameters['doi_size']/parameters['grid_resolution'])**2), dtype=complex)\n",
    "\n",
    "Fryt.shape"
   ]
  },
  {
   "cell_type": "code",
   "execution_count": 79,
   "metadata": {},
   "outputs": [],
   "source": [
    "Zryt=((1j*np.pi*cellrad/(2*parameters['k0']))*\n",
    "      jv(1,parameters['k0']*cellrad)*\n",
    "      hankel1(0, parameters['k0']*dist_grid2device.T))"
   ]
  },
  {
   "cell_type": "code",
   "execution_count": 78,
   "metadata": {},
   "outputs": [
    {
     "data": {
      "text/plain": [
       "0.5451129257719947"
      ]
     },
     "execution_count": 78,
     "metadata": {},
     "output_type": "execute_result"
    }
   ],
   "source": [
    "jv(1,parameters['k0']*cellrad)"
   ]
  },
  {
   "cell_type": "code",
   "execution_count": null,
   "metadata": {},
   "outputs": [],
   "source": []
  }
 ],
 "metadata": {
  "kernelspec": {
   "display_name": "Python 3",
   "language": "python",
   "name": "python3"
  },
  "language_info": {
   "codemirror_mode": {
    "name": "ipython",
    "version": 3
   },
   "file_extension": ".py",
   "mimetype": "text/x-python",
   "name": "python",
   "nbconvert_exporter": "python",
   "pygments_lexer": "ipython3",
   "version": "3.10.6"
  },
  "orig_nbformat": 4,
  "vscode": {
   "interpreter": {
    "hash": "31f2aee4e71d21fbe5cf8b01ff0e069b9275f58929596ceb00d14d90e3e16cd6"
   }
  }
 },
 "nbformat": 4,
 "nbformat_minor": 2
}

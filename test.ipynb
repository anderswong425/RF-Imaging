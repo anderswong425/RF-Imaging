{
 "cells": [
  {
   "cell_type": "code",
   "execution_count": 37,
   "metadata": {},
   "outputs": [],
   "source": [
    "# Based on Amar's matlab code\n",
    "import numpy as np\n",
    "from shapely.geometry import LineString, Point\n",
    "\n",
    "import time\n",
    "\n",
    "parameters = {}\n",
    "\n",
    "parameters['time'] = time.strftime('%d%b%H%M', time.localtime())\n",
    "parameters['doi_size'] = 1.5\n",
    "parameters['alpha'] = 1e2\n",
    "parameters['num_iter'] = 1,\n",
    "parameters['num_devices'] = 20\n",
    "parameters['device_indices'] = [x+1 for x in range(parameters['num_devices'])]\n",
    "\n",
    "parameters['sample_rate'] = 1e6  # Hz\n",
    "parameters['num_samples'] = 1000  # number of samples per call to rx()\n",
    "parameters['center_freq'] = 2.4e9  # Hz 2.4e9\n",
    "parameters['bandwidth'] = 10  # Hz\n",
    "parameters['transmitter_attenuation'] = 0  # dB\n",
    "parameters['receiver_gain'] = 40,  # dB\n",
    "parameters['grid_resolution'] = 0.05\n",
    "parameters['detection_size'] = 0.1\n",
    "\n",
    "def calculate_distance(point1, point2):\n",
    "    return np.sqrt((point1[0]-point2[0])**2+(point1[1]-point2[1])**2)\n",
    "\n",
    "\n",
    "\n",
    "def get_device_coordinates(parameters):\n",
    "    doi_size = parameters['doi_size']\n",
    "    num_deivces = len(parameters['device_indices'])\n",
    "\n",
    "    line = LineString(((0.0, 0.0), (0.0, doi_size), (doi_size, doi_size), (doi_size, 0.0), (0.0, 0.0)))\n",
    "\n",
    "    distances = np.linspace(0, line.length, num_deivces+1)\n",
    "\n",
    "    points = [line.interpolate(distance) for distance in distances[:-1]]\n",
    "\n",
    "    xx = [round(point.x, 3) for point in points]\n",
    "    yy = [round(point.y, 3) for point in points]\n",
    "\n",
    "    return xx, yy\n",
    "\n",
    "\n",
    "def get_grid_coordinates(parameters):\n",
    "    x = np.linspace(0.025, 1.475, int(parameters['doi_size']/parameters['grid_resolution']))\n",
    "\n",
    "    y = np.linspace(0.025, 1.475, int(parameters['doi_size']/parameters['grid_resolution']))\n",
    "\n",
    "    xx, yy = np.meshgrid(x, y)\n",
    "\n",
    "    return xx, yy\n",
    "\n",
    "\n",
    "device_xx, device_yy = get_device_coordinates(parameters)\n",
    "\n",
    "\n",
    "grid_xx, grid_yy = get_grid_coordinates(parameters)\n",
    "\n",
    "dist_txrx = np.zeros((parameters['num_devices'], parameters['num_devices']))\n",
    "for tx in range(parameters['num_devices']):\n",
    "    for rx in range(parameters['num_devices']):\n",
    "        dist_txrx[tx][rx] = calculate_distance((device_xx[tx], device_yy[tx]), (device_xx[rx], device_yy[rx]))\n",
    "\n",
    "dist_grid2device = np.zeros((int(parameters['doi_size']/parameters['grid_resolution']), int(parameters['doi_size']/parameters['grid_resolution']), parameters['num_devices']))\n",
    "for y in range(int(parameters['doi_size']/parameters['grid_resolution'])):\n",
    "    for x in range(int(parameters['doi_size']/parameters['grid_resolution'])):\n",
    "        for device in range(parameters['num_devices']):\n",
    "            dist_grid2device[x][y][device] = (calculate_distance((grid_xx[x][y], grid_yy[x][y]), (device_xx[device], device_yy[device])))\n"
   ]
  },
  {
   "cell_type": "code",
   "execution_count": 38,
   "metadata": {},
   "outputs": [],
   "source": [
    "F_RTI = np.zeros(((parameters['num_devices'])*(parameters['num_devices']-1), int(parameters['doi_size']/parameters['grid_resolution']), int(parameters['doi_size']/parameters['grid_resolution'])))\n",
    "\n",
    "idx = 0\n",
    "for tx in range(parameters['num_devices']):\n",
    "    for rx in range(parameters['num_devices']):\n",
    "        if tx != rx:\n",
    "            Thresh = 2*np.sqrt(dist_txrx[tx][rx]**2/4+parameters['detection_size']**2)\n",
    "            foc_sum = dist_grid2device[:, :, rx] + dist_grid2device[:, :, tx]\n",
    "            foc_sum[foc_sum>Thresh]=0\n",
    "            foc_sum[foc_sum!=0]=1\n",
    "            F_RTI[idx] = foc_sum\n",
    "            idx += 1\n",
    "\n",
    "F_RTI = F_RTI.reshape((parameters['num_devices'])*(parameters['num_devices']-1), -1)"
   ]
  },
  {
   "cell_type": "code",
   "execution_count": 39,
   "metadata": {},
   "outputs": [],
   "source": [
    "start = time.time()"
   ]
  },
  {
   "cell_type": "code",
   "execution_count": 40,
   "metadata": {},
   "outputs": [],
   "source": [
    "from functions import *\n",
    "\n",
    "Pinc = np.load('result/Pinc.npy')\n",
    "Pinc = magnitude_to_db(abs(np.mean(np.squeeze(Pinc), axis=2)), parameters['receiver_gain'])\n",
    "Pinc = Pinc[~np.eye(Pinc.shape[0],dtype=bool)].reshape(-1,1)"
   ]
  },
  {
   "cell_type": "code",
   "execution_count": 41,
   "metadata": {},
   "outputs": [],
   "source": [
    "Ptot = np.load('result/Ptot.npy')\n",
    "Ptot = magnitude_to_db(abs(np.mean(np.squeeze(Ptot), axis=2)), parameters['receiver_gain'])\n",
    "Ptot = Ptot[~np.eye(Ptot.shape[0],dtype=bool)].reshape(-1,1)"
   ]
  },
  {
   "cell_type": "code",
   "execution_count": 42,
   "metadata": {},
   "outputs": [],
   "source": [
    "Pryt = Pinc - Ptot"
   ]
  },
  {
   "cell_type": "code",
   "execution_count": 43,
   "metadata": {},
   "outputs": [],
   "source": [
    "output = np.matmul(np.linalg.solve((np.matmul(F_RTI.T, F_RTI) + parameters['alpha'] * np.identity((int(parameters['doi_size']/parameters['grid_resolution'])**2))),  F_RTI.T), Pryt)"
   ]
  },
  {
   "cell_type": "code",
   "execution_count": 44,
   "metadata": {},
   "outputs": [],
   "source": [
    "output = output / output.max()"
   ]
  },
  {
   "cell_type": "code",
   "execution_count": 45,
   "metadata": {},
   "outputs": [],
   "source": [
    "output[output<0] = 0"
   ]
  },
  {
   "cell_type": "code",
   "execution_count": 46,
   "metadata": {},
   "outputs": [
    {
     "data": {
      "image/png": "[encoded data removed]",
      "text/plain": [
       "<Figure size 800x800 with 1 Axes>"
      ]
     },
     "metadata": {},
     "output_type": "display_data"
    }
   ],
   "source": [
    "import matplotlib.pyplot as plt\n",
    "\n",
    "plt.figure(figsize=(8, 8))\n",
    "\n",
    "fontdict = {'family': 'serif',\n",
    "            'color':  'black',\n",
    "            'weight': 'normal',\n",
    "            'size': 10,\n",
    "            }\n",
    "\n",
    "plt.imshow(output.reshape((30,30)), extent=[0.025, 1.475, 0.025, 1.475], cmap='jet')\n",
    "\n",
    "for i in range(parameters['num_devices']):\n",
    "    plt.scatter(device_xx[i], device_yy[i], c='tan', s=200)\n",
    "    plt.text(x=device_xx[i], y=device_yy[i]-0.01, s=i+1, fontdict=fontdict, ha='center')\n",
    "plt.show()"
   ]
  },
  {
   "cell_type": "code",
   "execution_count": 47,
   "metadata": {},
   "outputs": [],
   "source": [
    "import numpy as np\n",
    "import time\n",
    "\n",
    "parameters = {}\n",
    "\n",
    "parameters['time'] = time.time()\n",
    "parameters['num_devices'] = 20\n",
    "parameters['device_indices'] = [x+1 for x in range(parameters['num_devices'])]\n",
    "\n",
    "# device parameters\n",
    "parameters['sample_rate'] = 1e6  # Hz\n",
    "parameters['num_samples'] = 100  # number of samples per call to rx()\n",
    "parameters['center_freq'] = 2.4e9  # Hz\n",
    "parameters['bandwidth'] = 10  # Hz\n",
    "parameters['transmitter_attenuation'] = 0  # dB\n",
    "parameters['receiver_gain'] = 30  # dB\n",
    "parameters['wavelength'] = 3e8/parameters['center_freq']\n",
    "\n",
    "# imaging parameters\n",
    "parameters['doi_size'] = 1.5\n",
    "parameters['alpha'] = 0.05 #1e2\n",
    "parameters['grid_resolution'] = 0.05\n",
    "parameters['detection_size'] = 0.1\n",
    "parameters['pixel_size'] = (int(parameters['doi_size']/parameters['grid_resolution']), int(parameters['doi_size']/parameters['grid_resolution'])) \n",
    "\n",
    "parameters['eterm'] = 1\n",
    "parameters['k0'] = 2*np.pi/parameters['wavelength']\n",
    "\n",
    "    \n",
    "Pinc = np.load('result/Pinc.npy')\n",
    "Ptot = np.load('result/Ptot.npy')\n",
    "\n",
    "Pinc = magnitude_to_db(abs(np.mean(np.squeeze(Pinc), axis=2)), parameters['receiver_gain'])\n",
    "Pinc = Pinc[~np.eye(Pinc.shape[0],dtype=bool)].reshape(-1,1)\n",
    "\n",
    "\n",
    "Ptot = magnitude_to_db(abs(np.mean(np.squeeze(Ptot), axis=2)), parameters['receiver_gain'])\n",
    "Ptot = Ptot[~np.eye(Ptot.shape[0],dtype=bool)].reshape(-1,1)"
   ]
  },
  {
   "cell_type": "code",
   "execution_count": 48,
   "metadata": {},
   "outputs": [],
   "source": [
    "Pryt=(Ptot-Pinc)/(20*np.log10(np.exp(1)))"
   ]
  },
  {
   "cell_type": "code",
   "execution_count": 49,
   "metadata": {},
   "outputs": [],
   "source": [
    "cellrad = (np.sqrt(parameters['grid_resolution']**2/np.pi)*2)/2"
   ]
  },
  {
   "cell_type": "code",
   "execution_count": 50,
   "metadata": {},
   "outputs": [],
   "source": [
    "from scipy.special import hankel1, jv\n",
    "\n",
    "E_d = (1j/4)*hankel1(0, parameters['k0']*dist_txrx)\n",
    "E_inc = (1j/4)*hankel1(0, parameters['k0']*dist_grid2device)"
   ]
  },
  {
   "cell_type": "code",
   "execution_count": 51,
   "metadata": {},
   "outputs": [
    {
     "data": {
      "text/plain": [
       "(20, 20)"
      ]
     },
     "execution_count": 51,
     "metadata": {},
     "output_type": "execute_result"
    }
   ],
   "source": [
    "E_d.shape\n",
    "dist_txrx.shape\n"
   ]
  },
  {
   "cell_type": "code",
   "execution_count": 52,
   "metadata": {},
   "outputs": [
    {
     "data": {
      "text/plain": [
       "(30, 30, 20)"
      ]
     },
     "execution_count": 52,
     "metadata": {},
     "output_type": "execute_result"
    }
   ],
   "source": [
    "E_inc.shape"
   ]
  },
  {
   "cell_type": "code",
   "execution_count": 53,
   "metadata": {},
   "outputs": [
    {
     "ename": "NameError",
     "evalue": "name 'Zryt' is not defined",
     "output_type": "error",
     "traceback": [
      "\u001b[0;31m---------------------------------------------------------------------------\u001b[0m",
      "\u001b[0;31mNameError\u001b[0m                                 Traceback (most recent call last)",
      "Cell \u001b[0;32mIn [53], line 1\u001b[0m\n\u001b[0;32m----> 1\u001b[0m Zryt\u001b[39m.\u001b[39mshape\n",
      "\u001b[0;31mNameError\u001b[0m: name 'Zryt' is not defined"
     ]
    }
   ],
   "source": [
    "Zryt.shape"
   ]
  },
  {
   "cell_type": "code",
   "execution_count": null,
   "metadata": {},
   "outputs": [],
   "source": [
    "Zryt=((1j*np.pi*cellrad/(2*parameters['k0']))*jv(1,parameters['k0']*cellrad)*hankel1(0, parameters['k0']*dist_grid2device.T))"
   ]
  },
  {
   "cell_type": "code",
   "execution_count": null,
   "metadata": {},
   "outputs": [],
   "source": [
    "Fryt = np.zeros(((parameters['num_devices'])*(parameters['num_devices']-1), int(parameters['doi_size']/parameters['grid_resolution']), int(parameters['doi_size']/parameters['grid_resolution'])), dtype=complex)\n",
    "\n",
    "idx = 0\n",
    "for tx in range(parameters['num_devices']):\n",
    "    for rx in range(parameters['num_devices']):\n",
    "        if tx != rx:\n",
    "            Fryt[idx] = ((parameters['k0']**2)*((Zryt[rx, :, :]*(E_inc[:, :, tx]).T)/(E_d[tx][rx])))\n",
    "            \n",
    "            idx += 1"
   ]
  },
  {
   "cell_type": "code",
   "execution_count": null,
   "metadata": {},
   "outputs": [],
   "source": [
    "FrytB = np.concatenate((Fryt.real, -Fryt.imag)).reshape(380, -1)"
   ]
  },
  {
   "cell_type": "code",
   "execution_count": null,
   "metadata": {},
   "outputs": [],
   "source": [
    "FrytB.T.shape"
   ]
  },
  {
   "cell_type": "code",
   "execution_count": null,
   "metadata": {},
   "outputs": [],
   "source": [
    "U_l = FrytB.shape[1]"
   ]
  },
  {
   "cell_type": "code",
   "execution_count": null,
   "metadata": {},
   "outputs": [],
   "source": [
    "lambda_max = np.linalg.norm(np.matmul(FrytB.T, Pryt), ord=2)"
   ]
  },
  {
   "cell_type": "code",
   "execution_count": null,
   "metadata": {},
   "outputs": [],
   "source": [
    "(np.matmul(FrytB.T, FrytB) + lambda_max * parameters['alpha'] * np.identity(U_l))"
   ]
  },
  {
   "cell_type": "code",
   "execution_count": null,
   "metadata": {},
   "outputs": [],
   "source": [
    "# O = (FrytB.'*FrytB + lambda_max*alph*eye(U_l))\\FrytB.'*Pryt\n",
    "\n",
    "Oimag = np.matmul(np.linalg.solve((np.matmul(FrytB.T, FrytB) + lambda_max * parameters['alpha'] * np.identity(U_l)),  FrytB.T), Pryt)[parameters['pixel_size'][0]**2:]"
   ]
  },
  {
   "cell_type": "code",
   "execution_count": null,
   "metadata": {},
   "outputs": [],
   "source": [
    "epr = 4*np.pi*(Oimag*0.5)/parameters['wavelength']\n",
    "\n",
    "epr[epr < 0] = 0"
   ]
  },
  {
   "cell_type": "code",
   "execution_count": null,
   "metadata": {},
   "outputs": [],
   "source": [
    "\n",
    "plt.figure(figsize=(8, 8))\n",
    "\n",
    "fontdict = {'family': 'serif',\n",
    "            'color':  'black',\n",
    "            'weight': 'normal',\n",
    "            'size': 10,\n",
    "            }\n",
    "\n",
    "plt.imshow(epr.reshape((30,30)), extent=[0.025, 1.475, 0.025, 1.475], cmap='jet')\n",
    "\n",
    "for i in range(parameters['num_devices']):\n",
    "    plt.scatter(device_xx[i], device_yy[i], c='tan', s=200)\n",
    "    plt.text(x=device_xx[i], y=device_yy[i]-0.01, s=i+1, fontdict=fontdict, ha='center')\n",
    "plt.show()"
   ]
  },
  {
   "cell_type": "code",
   "execution_count": null,
   "metadata": {},
   "outputs": [],
   "source": [
    "epr.max()"
   ]
  },
  {
   "cell_type": "code",
   "execution_count": null,
   "metadata": {},
   "outputs": [],
   "source": [
    "import scipy.io\n",
    "\n",
    "\n",
    "haha = scipy.io.loadmat(\"/home/lowong/Downloads/Forward_and_inverse_xPRA_RTI_codes - Anders/distanceED.mat\")['distRxRn']\n",
    "\n",
    "haha = np.array(haha)\n",
    "haha.shape\n"
   ]
  },
  {
   "cell_type": "code",
   "execution_count": null,
   "metadata": {},
   "outputs": [],
   "source": [
    "dist_grid2device.shape"
   ]
  },
  {
   "cell_type": "code",
   "execution_count": null,
   "metadata": {},
   "outputs": [],
   "source": [
    "dist_grid2device.reshape(900, -1).T - haha"
   ]
  },
  {
   "cell_type": "code",
   "execution_count": 95,
   "metadata": {},
   "outputs": [
    {
     "data": {
      "text/plain": [
       "dict_keys(['freq', 'TxRx1', 'size_DOI', 'ty1', 'ym', 'ans', 'distRxRn', 'distTxRn', 'distTxRx', 'E_d', 'E_inc', 'Fryt', 'FrytB', 'Zryt', 'Ptot', 'E_ds1', 'epsono_r_c', 'E_s', 'Pinc', 'TxRxpairs', 'Ni', 'tx1', 'xm', 'epsono_rGT'])"
      ]
     },
     "execution_count": 95,
     "metadata": {},
     "output_type": "execute_result"
    }
   ],
   "source": [
    "# load all the mat files into a dictionary with the names as keys\n",
    "from pathlib import Path\n",
    "import scipy.io\n",
    "\n",
    "path = Path('Forward_and_inverse_xPRA_RTI_codes - Anders/')\n",
    "\n",
    "mat_data = {}\n",
    "\n",
    "for mat_file in path.glob('*.mat'):\n",
    "    data = scipy.io.loadmat(mat_file)\n",
    "    for key, value in data.items():\n",
    "        if key not in ['__header__', '__version__', '__globals__']:\n",
    "            mat_data[key] = value\n",
    "            if value.shape == (1, 1):\n",
    "                mat_data[key] = value.item()\n",
    "            \n",
    "mat_data.keys()"
   ]
  },
  {
   "cell_type": "code",
   "execution_count": 97,
   "metadata": {},
   "outputs": [
    {
     "data": {
      "text/plain": [
       "array([[1.47521185, 1.50041661, 1.58311402, ..., 0.57554322, 0.87535707,\n",
       "        1.17526593],\n",
       "       [1.42521928, 1.45129253, 1.53663594, ..., 0.5255949 , 0.8253787 ,\n",
       "        1.12527774],\n",
       "       [1.37522725, 1.40223037, 1.49038586, ..., 0.47565744, 0.77540312,\n",
       "        1.07529066],\n",
       "       ...,\n",
       "       [1.48028713, 1.18163023, 0.88388348, ..., 1.66620827, 1.54959672,\n",
       "        1.48534508],\n",
       "       [1.47690555, 1.17739118, 0.8782084 , ..., 1.69004438, 1.56564683,\n",
       "        1.49206233],\n",
       "       [1.47521185, 1.17526593, 0.87535707, ..., 1.71500729, 1.58311402,\n",
       "        1.50041661]])"
      ]
     },
     "execution_count": 97,
     "metadata": {},
     "output_type": "execute_result"
    }
   ],
   "source": [
    "mat_data['distTxRn']"
   ]
  },
  {
   "cell_type": "code",
   "execution_count": null,
   "metadata": {},
   "outputs": [],
   "source": []
  },
  {
   "cell_type": "code",
   "execution_count": 87,
   "metadata": {},
   "outputs": [
    {
     "ename": "ValueError",
     "evalue": "can only convert an array of size 1 to a Python scalar",
     "output_type": "error",
     "traceback": [
      "\u001b[0;31m---------------------------------------------------------------------------\u001b[0m",
      "\u001b[0;31mValueError\u001b[0m                                Traceback (most recent call last)",
      "Cell \u001b[0;32mIn [87], line 1\u001b[0m\n\u001b[0;32m----> 1\u001b[0m mat_data[\u001b[39m'\u001b[39;49m\u001b[39mty1\u001b[39;49m\u001b[39m'\u001b[39;49m]\u001b[39m.\u001b[39;49mitem()\n",
      "\u001b[0;31mValueError\u001b[0m: can only convert an array of size 1 to a Python scalar"
     ]
    }
   ],
   "source": [
    "mat_data['ty1'].item()"
   ]
  },
  {
   "cell_type": "code",
   "execution_count": 61,
   "metadata": {},
   "outputs": [
    {
     "data": {
      "text/plain": [
       "<matplotlib.image.AxesImage at 0x7fbc15d15180>"
      ]
     },
     "execution_count": 61,
     "metadata": {},
     "output_type": "execute_result"
    },
    {
     "data": {
      "image/png": "[encoded data removed]",
      "text/plain": [
       "<Figure size 640x480 with 1 Axes>"
      ]
     },
     "metadata": {},
     "output_type": "display_data"
    }
   ],
   "source": [
    "import matplotlib.pyplot as ply\n",
    "\n",
    "ply.imshow(mat_data['Ptot'])"
   ]
  },
  {
   "cell_type": "code",
   "execution_count": 59,
   "metadata": {},
   "outputs": [
    {
     "data": {
      "text/plain": [
       "<matplotlib.image.AxesImage at 0x7fbc15da5f00>"
      ]
     },
     "execution_count": 59,
     "metadata": {},
     "output_type": "execute_result"
    },
    {
     "data": {
      "image/png": "[encoded data removed]",
      "text/plain": [
       "<Figure size 640x480 with 1 Axes>"
      ]
     },
     "metadata": {},
     "output_type": "display_data"
    }
   ],
   "source": [
    "import numpy as np\n",
    "from functions import *\n",
    "\n",
    "Pinc = np.load('result/Pinc.npy')\n",
    "Pinc = magnitude_to_db(abs(np.mean(np.squeeze(Pinc), axis=2)), parameters['receiver_gain'])\n",
    "Pinc = Pinc[~np.eye(Pinc.shape[0],dtype=bool)].reshape(-1,1)\n",
    "plt.imshow(Pinc.reshape(19, 20))"
   ]
  },
  {
   "cell_type": "code",
   "execution_count": 56,
   "metadata": {},
   "outputs": [
    {
     "data": {
      "text/plain": [
       "(380, 1)"
      ]
     },
     "execution_count": 56,
     "metadata": {},
     "output_type": "execute_result"
    }
   ],
   "source": [
    "Pinc.shape"
   ]
  },
  {
   "cell_type": "code",
   "execution_count": null,
   "metadata": {},
   "outputs": [],
   "source": []
  }
 ],
 "metadata": {
  "kernelspec": {
   "display_name": "Python 3",
   "language": "python",
   "name": "python3"
  },
  "language_info": {
   "codemirror_mode": {
    "name": "ipython",
    "version": 3
   },
   "file_extension": ".py",
   "mimetype": "text/x-python",
   "name": "python",
   "nbconvert_exporter": "python",
   "pygments_lexer": "ipython3",
   "version": "3.10.6 (main, Nov 14 2022, 16:10:14) [GCC 11.3.0]"
  },
  "orig_nbformat": 4,
  "vscode": {
   "interpreter": {
    "hash": "31f2aee4e71d21fbe5cf8b01ff0e069b9275f58929596ceb00d14d90e3e16cd6"
   }
  }
 },
 "nbformat": 4,
 "nbformat_minor": 2
}

{
 "cells": [
  {
   "cell_type": "code",
   "execution_count": 1,
   "metadata": {},
   "outputs": [
    {
     "name": "stdout",
     "output_type": "stream",
     "text": [
      "dict_keys(['freq', 'TxRx1', 'size_DOI', 'ty1', 'ym', 'ans', 'distRxRn', 'distTxRn', 'distTxRx', 'E_d', 'E_inc', 'Fryt', 'FrytB', 'Zryt', 'Ptot', 'E_ds1', 'epsono_r_c', 'E_s', 'Pinc', 'TxRxpairs', 'Ni', 'tx1', 'xm', 'epsono_rGT'])\n"
     ]
    }
   ],
   "source": [
    "# load all the mat files into a dictionary with the names as keys\n",
    "from pathlib import Path\n",
    "import scipy.io\n",
    "\n",
    "path = Path('Forward_and_inverse_xPRA_RTI_codes - Anders/')\n",
    "\n",
    "mat_data = {}\n",
    "\n",
    "for mat_file in path.glob('*.mat'):\n",
    "    data = scipy.io.loadmat(mat_file)\n",
    "    for key, value in data.items():\n",
    "        if key not in ['__header__', '__version__', '__globals__']:\n",
    "            mat_data[key] = value\n",
    "            if value.shape == (1, 1):\n",
    "                mat_data[key] = value.item()\n",
    "\n",
    "print(mat_data.keys())\n"
   ]
  },
  {
   "cell_type": "code",
   "execution_count": 2,
   "metadata": {},
   "outputs": [],
   "source": [
    "from shapely.geometry import LineString, Point\n",
    "import numpy as np\n",
    "from scipy.special import hankel1, jv\n",
    "\n",
    "\n",
    "def calculate_distance(point1, point2):\n",
    "    return np.sqrt((point1[0]-point2[0])**2+(point1[1]-point2[1])**2)\n",
    "\n",
    "\n",
    "def get_device_coordinates(parameters):\n",
    "    doi_size = parameters['doi_size']\n",
    "    num_deivces = len(parameters['device_indices'])\n",
    "\n",
    "    # line = LineString(((0.0, 0.0), (0.0, doi_size), (doi_size, doi_size), (doi_size, 0.0), (0.0, 0.0)))\n",
    "    line = LineString(((-doi_size/2, -doi_size/2), (doi_size/2, -doi_size/2), (doi_size/2, doi_size/2), (-doi_size/2, doi_size/2), (-doi_size/2, -doi_size/2)))\n",
    "\n",
    "    distances = np.linspace(0, line.length, num_deivces+1)\n",
    "\n",
    "    points = [line.interpolate(distance) for distance in distances[:-1]]\n",
    "\n",
    "    coordinates = [[round(point.x, 2), round(point.y, 2)] for point in points]\n",
    "\n",
    "    return np.array(coordinates)\n",
    "\n",
    "\n",
    "def get_grid_coordinates(parameters):\n",
    "    start = -parameters['doi_size']/2 + parameters['grid_resolution']/2\n",
    "    end = abs(start)\n",
    "\n",
    "    x = np.linspace(start, end, parameters['pixel_size'][0])\n",
    "\n",
    "    y = np.linspace(start, end, parameters['pixel_size'][1])\n",
    "\n",
    "    grid_coordinates_x, grid_coordinates_y = np.meshgrid(x, y)\n",
    "\n",
    "    return grid_coordinates_x, grid_coordinates_y\n",
    "\n",
    "\n",
    "parameters = {}\n",
    "\n",
    "parameters['num_devices'] = 20\n",
    "parameters['device_indices'] = [x+1 for x in range(parameters['num_devices'])]\n",
    "\n",
    "# device parameters\n",
    "parameters['sample_rate'] = 1e6  # Hz\n",
    "parameters['num_samples'] = 100  # number of samples per call to rx()\n",
    "parameters['center_freq'] = 2.4e9  # Hz\n",
    "parameters['bandwidth'] = 10  # Hz\n",
    "parameters['transmitter_attenuation'] = 0  # dB\n",
    "parameters['receiver_gain'] = 30  # dB\n",
    "parameters['wavelength'] = 3e8/parameters['center_freq']\n",
    "\n",
    "# imaging parameters\n",
    "parameters['doi_size'] = 1.5\n",
    "parameters['alpha'] = 0.5  # 1e2\n",
    "parameters['grid_resolution'] = 0.05\n",
    "parameters['detection_size'] = 0.1\n",
    "parameters['pixel_size'] = (int(parameters['doi_size']/parameters['grid_resolution']), int(parameters['doi_size']/parameters['grid_resolution']))\n",
    "\n",
    "parameters['eterm'] = 1\n",
    "parameters['k0'] = 2*np.pi/parameters['wavelength']\n",
    "\n",
    "\n",
    "parameters['cellrad'] = (np.sqrt(parameters['grid_resolution']**2/np.pi)*2)/2\n",
    "parameters['k0'] = 2*np.pi/parameters['wavelength']\n",
    "\n",
    "\n",
    "device_coordinates = get_device_coordinates(parameters)\n",
    "\n",
    "grid_coordinates_x, grid_coordinates_y = get_grid_coordinates(parameters)\n",
    "xr, xpr = np.meshgrid(device_coordinates[:, 0], grid_coordinates_x.T.reshape(-1))\n",
    "yr, ypr = np.meshgrid(device_coordinates[:, 1], grid_coordinates_y.T.reshape(-1)[::-1])\n",
    "\n",
    "distRxRn = np.sqrt((xr-xpr)**2+(yr-ypr)**2).T\n",
    "\n",
    "\n",
    "Zryt = ((1j*np.pi*parameters['cellrad'] / (2*parameters['k0'])) *\n",
    "        jv(1, parameters['k0']*parameters['cellrad']) *\n",
    "        hankel1(0, parameters['k0']*distRxRn.T)).T\n"
   ]
  },
  {
   "cell_type": "code",
   "execution_count": 3,
   "metadata": {},
   "outputs": [],
   "source": [
    "from functions import *\n",
    "\n",
    "path = 'result'\n",
    "\n",
    "Pinc = np.load(path + '/1.npy')\n",
    "Ptot = np.load(path + '/2.npy')\n",
    "\n",
    "Pinc = magnitude_to_db(abs(np.mean(np.squeeze(Pinc), axis=2)), parameters['receiver_gain'])\n",
    "Pinc = Pinc[~np.eye(Pinc.shape[0], dtype=bool)].reshape(-1, 1)\n",
    "\n",
    "\n",
    "Ptot = magnitude_to_db(abs(np.mean(np.squeeze(Ptot), axis=2)), parameters['receiver_gain'])\n",
    "Ptot = Ptot[~np.eye(Ptot.shape[0], dtype=bool)].reshape(-1, 1)\n"
   ]
  },
  {
   "cell_type": "code",
   "execution_count": 4,
   "metadata": {},
   "outputs": [],
   "source": [
    "scipy.io.savemat('test_data.mat', {'Pinc': Pinc.reshape((19, 20), order='F'), 'Ptot': Ptot.reshape((19, 20), order='F')})\n",
    "\n",
    "# Pinc = mat_data['Pinc'].T.reshape(-1,1)\n",
    "# Ptot = mat_data['Ptot'].T.reshape(-1,1)\n"
   ]
  },
  {
   "cell_type": "code",
   "execution_count": 5,
   "metadata": {},
   "outputs": [],
   "source": [
    "Pryt = (Ptot-Pinc)/(20*np.log10(np.exp(1)))\n",
    "dist_txrx = np.zeros((parameters['num_devices'], parameters['num_devices']))\n",
    "for tx in range(parameters['num_devices']):\n",
    "    for rx in range(parameters['num_devices']):\n",
    "        dist_txrx[tx][rx] = calculate_distance(device_coordinates[tx], device_coordinates[rx])\n",
    "\n",
    "E_d = (1j/4)*hankel1(0, parameters['k0']*dist_txrx)\n",
    "E_inc = (1j/4)*hankel1(0, parameters['k0']*distRxRn)\n",
    "Fryt = np.zeros((parameters['num_devices']*(parameters['num_devices']-1), parameters['pixel_size'][0]**2), dtype=complex)\n",
    "\n",
    "idx = 0\n",
    "for tx in range(parameters['num_devices']):\n",
    "    for rx in range(parameters['num_devices']):\n",
    "        if tx != rx:\n",
    "            Fryt[idx] = ((parameters['k0']**2)*((Zryt[rx, :]*(E_inc[tx, :]))/(E_d[rx][tx])))\n",
    "\n",
    "            idx += 1\n",
    "\n",
    "FrytB = np.concatenate((Fryt.real, -Fryt.imag), axis=1)\n",
    "\n",
    "lambda_max = np.linalg.norm(FrytB.T @ Pryt, ord=2)\n",
    "Oimag = (np.linalg.solve((FrytB.T @ FrytB + lambda_max * parameters['alpha'] * np.identity(FrytB.shape[1])),  FrytB.T) @ Pryt)[parameters['pixel_size'][0]**2:]\n",
    "\n",
    "epr = 4*np.pi*(Oimag*0.5)/parameters['wavelength']\n",
    "\n",
    "epr[epr < 0] = 0\n",
    "\n",
    "epr = epr.reshape(parameters['pixel_size'], order='F')\n"
   ]
  },
  {
   "cell_type": "code",
   "execution_count": 6,
   "metadata": {},
   "outputs": [],
   "source": [
    "def test_display(epr):\n",
    "\n",
    "    fontdict = {'family': 'serif',\n",
    "                'color':  'black',\n",
    "                'weight': 'normal',\n",
    "                'size': 10,\n",
    "                }\n",
    "\n",
    "    im = plt.imshow(epr, extent=[-1.475, 1.475, -1.475, 1.475], cmap='jet')\n",
    "\n",
    "    plt.colorbar(im)\n",
    "\n",
    "    plt.title('xPRA')\n",
    "\n",
    "    plt.show()\n"
   ]
  },
  {
   "cell_type": "code",
   "execution_count": 7,
   "metadata": {},
   "outputs": [
    {
     "data": {
      "image/png": "[encoded data removed]",
      "text/plain": [
       "<Figure size 640x480 with 2 Axes>"
      ]
     },
     "metadata": {},
     "output_type": "display_data"
    }
   ],
   "source": [
    "test_display(epr)\n"
   ]
  },
  {
   "cell_type": "code",
   "execution_count": 8,
   "metadata": {},
   "outputs": [],
   "source": [
    "from xPRA import xPRA, xPRA_preparation\n",
    "\n",
    "result = xPRA(parameters, xPRA_preparation(parameters), Pinc, Ptot)\n"
   ]
  },
  {
   "cell_type": "code",
   "execution_count": 9,
   "metadata": {},
   "outputs": [
    {
     "data": {
      "text/plain": [
       "<matplotlib.image.AxesImage at 0x7fe7ebbfad10>"
      ]
     },
     "execution_count": 9,
     "metadata": {},
     "output_type": "execute_result"
    },
    {
     "data": {
      "image/png": "[encoded data removed]",
      "text/plain": [
       "<Figure size 640x480 with 1 Axes>"
      ]
     },
     "metadata": {},
     "output_type": "display_data"
    }
   ],
   "source": [
    "plt.imshow(result, cmap='jet')\n"
   ]
  },
  {
   "cell_type": "code",
   "execution_count": 14,
   "metadata": {},
   "outputs": [],
   "source": [
    "\n",
    "import cvxpy as cp\n",
    "import numpy as np\n",
    "\n",
    "\n",
    "def tval3_reconstruct(data, alpha=1.0, beta=1.0, rho=1.0, gamma=1.0, max_iter=100):\n",
    "    m, n = data.shape\n",
    "\n",
    "    # Define variables\n",
    "    x = cp.Variable((m, n))\n",
    "    yh = cp.Variable((m, n))\n",
    "    yv = cp.Variable((m, n))\n",
    "    z = cp.Variable((m, n))\n",
    "    u = cp.Variable((m, n))\n",
    "\n",
    "    # Define objective function\n",
    "    obj = cp.Minimize(cp.tv(yh[:, 1:]) + cp.tv(yv[1:, :]) + alpha * cp.norm(x, 1) +\n",
    "                      beta * cp.sum_squares(z - data) + 0.5 * rho * cp.sum_squares(x - z + u))\n",
    "\n",
    "    # Define constraints\n",
    "    constraints = [yh - cp.vstack([np.zeros((1, n)), yh[:-1, :]]) == x - cp.vstack([x[:1, :], x[:-1, :]]),\n",
    "                   yv - cp.hstack([np.zeros((m, 1)), yv[:, :-1]]) == x - cp.hstack([x[:, :1], x[:, :-1]]),\n",
    "                   yh[1:, :].T == 0,\n",
    "                   yv[:, 1:].T == 0]\n",
    "\n",
    "    # Solve problem\n",
    "    prob = cp.Problem(obj, constraints)\n",
    "    prob.solve(solver=cp.ECOS_BB, max_iters=max_iter, verbose=True)\n",
    "\n",
    "    return x.value\n"
   ]
  },
  {
   "cell_type": "code",
   "execution_count": 16,
   "metadata": {},
   "outputs": [],
   "source": [
    "FrytB = xPRA_preparation(parameters)\n",
    "\n",
    "result = xPRA(parameters, FrytB, Pinc, Ptot)"
   ]
  },
  {
   "cell_type": "code",
   "execution_count": 18,
   "metadata": {},
   "outputs": [
    {
     "name": "stdout",
     "output_type": "stream",
     "text": [
      "===============================================================================\n",
      "                                     CVXPY                                     \n",
      "                                     v1.3.0                                    \n",
      "===============================================================================\n",
      "(CVXPY) Feb 23 04:59:29 PM: Your problem has 4500 variables, 4 constraints, and 0 parameters.\n",
      "(CVXPY) Feb 23 04:59:29 PM: It is compliant with the following grammars: DCP, DQCP\n",
      "(CVXPY) Feb 23 04:59:29 PM: (If you need to solve this problem multiple times, but with different data, consider using parameters.)\n",
      "(CVXPY) Feb 23 04:59:29 PM: CVXPY will first compile your problem; then, it will invoke a numerical solver to obtain a solution.\n",
      "-------------------------------------------------------------------------------\n",
      "                                  Compilation                                  \n",
      "-------------------------------------------------------------------------------\n",
      "(CVXPY) Feb 23 04:59:29 PM: Compiling problem (target solver=ECOS_BB).\n",
      "(CVXPY) Feb 23 04:59:29 PM: Reduction chain: Dcp2Cone -> CvxAttr2Constr -> ConeMatrixStuffing -> ECOS_BB\n",
      "(CVXPY) Feb 23 04:59:29 PM: Applying reduction Dcp2Cone\n",
      "(CVXPY) Feb 23 04:59:29 PM: Applying reduction CvxAttr2Constr\n",
      "(CVXPY) Feb 23 04:59:29 PM: Applying reduction ConeMatrixStuffing\n",
      "(CVXPY) Feb 23 04:59:29 PM: Applying reduction ECOS_BB\n",
      "(CVXPY) Feb 23 04:59:29 PM: Finished problem compilation (took 2.109e-02 seconds).\n",
      "-------------------------------------------------------------------------------\n",
      "                                Numerical solver                               \n",
      "-------------------------------------------------------------------------------\n",
      "(CVXPY) Feb 23 04:59:29 PM: Invoking solver ECOS_BB  to obtain a solution.\n",
      "\n",
      "ECOS 2.0.10 - (C) embotech GmbH, Zurich Switzerland, 2012-15. Web: www.embotech.com/ECOS\n",
      "\n",
      "It     pcost       dcost      gap   pres   dres    k/t    mu     step   sigma     IR    |   BT\n",
      " 0  -1.184e-17  -1.569e-03  +9e+03  1e+00  4e-02  1e+00  3e+00    ---    ---    1  1  - |  -  - \n",
      " 1  -6.284e-02  -1.220e-03  +2e+02  1e-02  7e-04  8e-02  7e-02  0.9835  1e-02   1  1  1 |  0  0\n",
      " 2  -5.303e-04  -8.810e-04  +2e+01  3e-03  3e-05  7e-04  4e-03  0.9399  1e-03   2  2  2 |  0  0\n",
      " 3  -1.265e-04  -1.278e-04  +2e-01  2e-04  3e-07  1e-05  5e-05  0.9890  1e-04   3  2  2 |  0  0\n",
      " 4  -1.419e-06  -1.431e-06  +2e-03  2e-06  4e-09  1e-07  6e-07  0.9890  1e-04   7  3  3 |  0  0\n",
      " 5  -1.562e-08  -1.575e-08  +2e-05  2e-08  4e-11  1e-09  6e-09  0.9890  1e-04   1  1  1 |  0  0\n",
      " 6  -1.720e-10  -1.733e-10  +2e-07  2e-10  4e-13  1e-11  7e-11  0.9890  1e-04   2  1  1 |  0  0\n",
      " 7  -1.894e-12  -1.907e-12  +3e-09  3e-12  5e-15  2e-13  8e-13  0.9890  1e-04   2  1  1 |  0  0\n",
      "\n",
      "OPTIMAL (within feastol=2.7e-12, reltol=1.4e+03, abstol=2.7e-09).\n",
      "Runtime: 0.143681 seconds.\n",
      "\n",
      "-------------------------------------------------------------------------------\n",
      "                                    Summary                                    \n",
      "-------------------------------------------------------------------------------\n",
      "(CVXPY) Feb 23 04:59:29 PM: Problem status: optimal\n",
      "(CVXPY) Feb 23 04:59:29 PM: Optimal value: 1.259e-19\n",
      "(CVXPY) Feb 23 04:59:29 PM: Compilation took 2.109e-02 seconds\n",
      "(CVXPY) Feb 23 04:59:29 PM: Solver (including time spent in interface) took 1.440e-01 seconds\n"
     ]
    },
    {
     "data": {
      "image/png": "[encoded data removed]",
      "text/plain": [
       "<Figure size 640x480 with 2 Axes>"
      ]
     },
     "metadata": {},
     "output_type": "display_data"
    }
   ],
   "source": [
    "test_display(tval3_reconstruct(result))"
   ]
  },
  {
   "cell_type": "code",
   "execution_count": null,
   "metadata": {},
   "outputs": [],
   "source": []
  }
 ],
 "metadata": {
  "kernelspec": {
   "display_name": "Python 3",
   "language": "python",
   "name": "python3"
  },
  "language_info": {
   "codemirror_mode": {
    "name": "ipython",
    "version": 3
   },
   "file_extension": ".py",
   "mimetype": "text/x-python",
   "name": "python",
   "nbconvert_exporter": "python",
   "pygments_lexer": "ipython3",
   "version": "3.10.6"
  },
  "orig_nbformat": 4,
  "vscode": {
   "interpreter": {
    "hash": "31f2aee4e71d21fbe5cf8b01ff0e069b9275f58929596ceb00d14d90e3e16cd6"
   }
  }
 },
 "nbformat": 4,
 "nbformat_minor": 2
}

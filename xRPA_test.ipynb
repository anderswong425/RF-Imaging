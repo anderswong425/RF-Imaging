{
 "cells": [
  {
   "cell_type": "code",
   "execution_count": 1,
   "metadata": {},
   "outputs": [
    {
     "name": "stdout",
     "output_type": "stream",
     "text": [
      "dict_keys(['freq', 'TxRx1', 'size_DOI', 'ty1', 'ym', 'ans', 'distRxRn', 'distTxRn', 'distTxRx', 'E_d', 'E_inc', 'Fryt', 'FrytB', 'Zryt', 'Ptot', 'E_ds1', 'epsono_r_c', 'E_s', 'Pinc', 'TxRxpairs', 'Ni', 'tx1', 'xm', 'epsono_rGT'])\n"
     ]
    }
   ],
   "source": [
    "# load all the mat files into a dictionary with the names as keys\n",
    "from pathlib import Path\n",
    "import scipy.io\n",
    "\n",
    "path = Path('Forward_and_inverse_xPRA_RTI_codes - Anders/')\n",
    "\n",
    "mat_data = {}\n",
    "\n",
    "for mat_file in path.glob('*.mat'):\n",
    "    data = scipy.io.loadmat(mat_file)\n",
    "    for key, value in data.items():\n",
    "        if key not in ['__header__', '__version__', '__globals__']:\n",
    "            mat_data[key] = value\n",
    "            if value.shape == (1, 1):\n",
    "                mat_data[key] = value.item()\n",
    "            \n",
    "print(mat_data.keys())"
   ]
  },
  {
   "cell_type": "code",
   "execution_count": 2,
   "metadata": {},
   "outputs": [],
   "source": [
    "from shapely.geometry import LineString, Point\n",
    "import numpy as np\n",
    "from scipy.special import hankel1, jv\n",
    "\n",
    "\n",
    "def calculate_distance(point1, point2):\n",
    "    return np.sqrt((point1[0]-point2[0])**2+(point1[1]-point2[1])**2)\n",
    "\n",
    "\n",
    "\n",
    "def get_device_coordinates(parameters):\n",
    "    doi_size = parameters['doi_size']\n",
    "    num_deivces = len(parameters['device_indices'])\n",
    "\n",
    "    # line = LineString(((0.0, 0.0), (0.0, doi_size), (doi_size, doi_size), (doi_size, 0.0), (0.0, 0.0)))\n",
    "    line = LineString(((-doi_size/2, -doi_size/2), (doi_size/2, -doi_size/2), (doi_size/2, doi_size/2), (-doi_size/2, doi_size/2), (-doi_size/2, -doi_size/2)))\n",
    "\n",
    "    distances = np.linspace(0, line.length, num_deivces+1)\n",
    "\n",
    "    points = [line.interpolate(distance) for distance in distances[:-1]]\n",
    "\n",
    "    coordinates = [[round(point.x, 2), round(point.y, 2)] for point in points]\n",
    "\n",
    "    return np.array(coordinates)\n",
    "\n",
    "def get_grid_coordinates(parameters):\n",
    "    start = -parameters['doi_size']/2 + parameters['grid_resolution']/2\n",
    "    end =  abs(start)\n",
    "    \n",
    "    x = np.linspace(start, end, parameters['pixel_size'][0])\n",
    "\n",
    "    y = np.linspace(start, end, parameters['pixel_size'][1])\n",
    "\n",
    "    grid_coordinates_x, grid_coordinates_y = np.meshgrid(x, y)\n",
    "\n",
    "    return grid_coordinates_x, grid_coordinates_y\n",
    "\n",
    "parameters = {}\n",
    "\n",
    "parameters['num_devices'] = 20\n",
    "parameters['device_indices'] = [x+1 for x in range(parameters['num_devices'])]\n",
    "\n",
    "# device parameters\n",
    "parameters['sample_rate'] = 1e6  # Hz\n",
    "parameters['num_samples'] = 100  # number of samples per call to rx()\n",
    "parameters['center_freq'] = 2.4e9  # Hz\n",
    "parameters['bandwidth'] = 10  # Hz\n",
    "parameters['transmitter_attenuation'] = 0  # dB\n",
    "parameters['receiver_gain'] = 30  # dB\n",
    "parameters['wavelength'] = 3e8/parameters['center_freq']\n",
    "\n",
    "# imaging parameters\n",
    "parameters['doi_size'] = 1.5\n",
    "parameters['alpha'] = 0.5 #1e2\n",
    "parameters['grid_resolution'] = 0.05\n",
    "parameters['detection_size'] = 0.1\n",
    "parameters['pixel_size'] = (int(parameters['doi_size']/parameters['grid_resolution']), int(parameters['doi_size']/parameters['grid_resolution'])) \n",
    "\n",
    "parameters['eterm'] = 1\n",
    "parameters['k0'] = 2*np.pi/parameters['wavelength']\n",
    "\n",
    "    \n",
    "parameters['cellrad'] = (np.sqrt(parameters['grid_resolution']**2/np.pi)*2)/2\n",
    "parameters['k0'] = 2*np.pi/parameters['wavelength']\n",
    "\n",
    "\n",
    "\n",
    "device_coordinates = get_device_coordinates(parameters)\n",
    "\n",
    "grid_coordinates_x, grid_coordinates_y = get_grid_coordinates(parameters)\n",
    "xr, xpr = np.meshgrid(device_coordinates[:, 0], grid_coordinates_x.T.reshape(-1))\n",
    "yr, ypr = np.meshgrid(device_coordinates[:, 1], grid_coordinates_y.T.reshape(-1)[::-1])\n",
    "\n",
    "distRxRn = np.sqrt((xr-xpr)**2+(yr-ypr)**2).T\n",
    "from scipy.special import hankel1, jv\n",
    "\n",
    "\n",
    "Zryt=((1j*np.pi*parameters['cellrad'] /(2*parameters['k0']))*\n",
    "      jv(1,parameters['k0']*parameters['cellrad'] )*\n",
    "      hankel1(0, parameters['k0']*distRxRn.T)).T"
   ]
  },
  {
   "cell_type": "code",
   "execution_count": 5,
   "metadata": {},
   "outputs": [],
   "source": [
    "from functions import *\n",
    "\n",
    "path = 'result'\n",
    "\n",
    "Pinc = np.load(path + '/1.npy')\n",
    "Ptot = np.load(path + '/2.npy')\n",
    "\n",
    "Pinc = magnitude_to_db(abs(np.mean(np.squeeze(Pinc), axis=2)), parameters['receiver_gain'])\n",
    "Pinc = Pinc[~np.eye(Pinc.shape[0],dtype=bool)].reshape(-1,1)\n",
    "\n",
    "\n",
    "Ptot = magnitude_to_db(abs(np.mean(np.squeeze(Ptot), axis=2)), parameters['receiver_gain'])\n",
    "Ptot = Ptot[~np.eye(Ptot.shape[0],dtype=bool)].reshape(-1,1)"
   ]
  },
  {
   "cell_type": "code",
   "execution_count": 6,
   "metadata": {},
   "outputs": [],
   "source": [
    "scipy.io.savemat('test_data.mat', {'Pinc': Pinc.reshape((19, 20), order='F'), 'Ptot': Ptot.reshape((19, 20), order='F')})\n"
   ]
  },
  {
   "cell_type": "code",
   "execution_count": 7,
   "metadata": {},
   "outputs": [],
   "source": [
    "# Pinc = mat_data['Pinc'].T.reshape(-1,1)\n",
    "# Ptot = mat_data['Ptot'].T.reshape(-1,1)\n"
   ]
  },
  {
   "cell_type": "code",
   "execution_count": 8,
   "metadata": {},
   "outputs": [],
   "source": [
    "Pryt=(Ptot-Pinc)/(20*np.log10(np.exp(1)))\n",
    "dist_txrx = np.zeros((parameters['num_devices'], parameters['num_devices']))\n",
    "for tx in range(parameters['num_devices']):\n",
    "    for rx in range(parameters['num_devices']):\n",
    "        dist_txrx[tx][rx] = calculate_distance(device_coordinates[tx], device_coordinates[rx])\n",
    "from scipy.special import hankel1, jv\n",
    "\n",
    "E_d = (1j/4)*hankel1(0, parameters['k0']*dist_txrx)\n",
    "E_inc = (1j/4)*hankel1(0, parameters['k0']*distRxRn)\n",
    "Fryt = np.zeros((parameters['num_devices']*(parameters['num_devices']-1), parameters['pixel_size'][0]**2), dtype=complex)\n",
    "\n",
    "idx = 0\n",
    "for tx in range(parameters['num_devices']):\n",
    "    for rx in range(parameters['num_devices']):\n",
    "        if tx != rx:\n",
    "            Fryt[idx] = ((parameters['k0']**2)*((Zryt[rx, :]*(E_inc[tx, :]))/(E_d[rx][tx])))\n",
    "            \n",
    "            idx += 1\n",
    "            \n",
    "FrytB = np.concatenate((Fryt.real, -Fryt.imag), axis=1)\n",
    "\n",
    "lambda_max = np.linalg.norm(FrytB.T @ Pryt, ord=2)\n",
    "Oimag = (np.linalg.solve((FrytB.T @ FrytB + lambda_max * parameters['alpha'] * np.identity(FrytB.shape[1])),  FrytB.T)@ Pryt)[parameters['pixel_size'][0]**2:]\n",
    "\n",
    "epr = 4*np.pi*(Oimag*0.5)/parameters['wavelength']\n",
    "\n",
    "epr[epr < 0] = 0\n",
    "\n",
    "epr = epr.reshape(parameters['pixel_size'], order='F')"
   ]
  },
  {
   "cell_type": "code",
   "execution_count": 9,
   "metadata": {},
   "outputs": [],
   "source": [
    "def test_display(epr):\n",
    "    \n",
    "    fontdict = {'family': 'serif',\n",
    "                'color':  'black',\n",
    "                'weight': 'normal',\n",
    "                'size': 10,\n",
    "                }\n",
    "\n",
    "    im = plt.imshow(epr, extent=[-1.475, 1.475, -1.475, 1.475], cmap='jet')\n",
    "\n",
    "    plt.colorbar(im)\n",
    "\n",
    "    plt.title('xPRA')\n",
    "\n",
    "    plt.show()"
   ]
  },
  {
   "cell_type": "code",
   "execution_count": 10,
   "metadata": {},
   "outputs": [
    {
     "data": {
      "image/png": "[encoded data removed]",
      "text/plain": [
       "<Figure size 640x480 with 2 Axes>"
      ]
     },
     "metadata": {},
     "output_type": "display_data"
    }
   ],
   "source": [
    "test_display(epr)"
   ]
  },
  {
   "cell_type": "code",
   "execution_count": 11,
   "metadata": {},
   "outputs": [],
   "source": [
    "from xPRA import xPRA\n",
    "\n",
    "result = xPRA(parameters, Pinc, Ptot)"
   ]
  },
  {
   "cell_type": "code",
   "execution_count": 12,
   "metadata": {},
   "outputs": [
    {
     "data": {
      "text/plain": [
       "<matplotlib.image.AxesImage at 0x7f8ccf3915d0>"
      ]
     },
     "execution_count": 12,
     "metadata": {},
     "output_type": "execute_result"
    },
    {
     "data": {
      "image/png": "[encoded data removed]",
      "text/plain": [
       "<Figure size 640x480 with 1 Axes>"
      ]
     },
     "metadata": {},
     "output_type": "display_data"
    }
   ],
   "source": [
    "plt.imshow(result, cmap='jet') "
   ]
  },
  {
   "cell_type": "code",
   "execution_count": 13,
   "metadata": {},
   "outputs": [],
   "source": [
    "sim_result = scipy.io.loadmat('sim_result.mat')['epr']"
   ]
  },
  {
   "cell_type": "code",
   "execution_count": null,
   "metadata": {},
   "outputs": [],
   "source": []
  }
 ],
 "metadata": {
  "kernelspec": {
   "display_name": "Python 3",
   "language": "python",
   "name": "python3"
  },
  "language_info": {
   "codemirror_mode": {
    "name": "ipython",
    "version": 3
   },
   "file_extension": ".py",
   "mimetype": "text/x-python",
   "name": "python",
   "nbconvert_exporter": "python",
   "pygments_lexer": "ipython3",
   "version": "3.10.6"
  },
  "orig_nbformat": 4,
  "vscode": {
   "interpreter": {
    "hash": "31f2aee4e71d21fbe5cf8b01ff0e069b9275f58929596ceb00d14d90e3e16cd6"
   }
  }
 },
 "nbformat": 4,
 "nbformat_minor": 2
}
